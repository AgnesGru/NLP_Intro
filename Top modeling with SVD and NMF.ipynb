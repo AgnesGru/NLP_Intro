{
 "cells": [
  {
   "cell_type": "code",
   "execution_count": 40,
   "metadata": {},
   "outputs": [],
   "source": [
    "import numpy as np\n",
    "from sklearn.datasets import fetch_20newsgroups  # get data from sklearn\n",
    "from sklearn import decomposition\n",
    "from scipy import linalg\n",
    "import matplotlib.pyplot as plt\n",
    "import pandas as pd\n",
    "import pprint"
   ]
  },
  {
   "cell_type": "code",
   "execution_count": 27,
   "metadata": {},
   "outputs": [],
   "source": [
    "%matplotlib inline\n",
    "np.set_printoptions(suppress=True)"
   ]
  },
  {
   "cell_type": "code",
   "execution_count": 42,
   "metadata": {},
   "outputs": [
    {
     "name": "stdout",
     "output_type": "stream",
     "text": [
      "['alt.atheism',\n",
      " 'comp.graphics',\n",
      " 'comp.os.ms-windows.misc',\n",
      " 'comp.sys.ibm.pc.hardware',\n",
      " 'comp.sys.mac.hardware',\n",
      " 'comp.windows.x',\n",
      " 'misc.forsale',\n",
      " 'rec.autos',\n",
      " 'rec.motorcycles',\n",
      " 'rec.sport.baseball',\n",
      " 'rec.sport.hockey',\n",
      " 'sci.crypt',\n",
      " 'sci.electronics',\n",
      " 'sci.med',\n",
      " 'sci.space',\n",
      " 'soc.religion.christian',\n",
      " 'talk.politics.guns',\n",
      " 'talk.politics.mideast',\n",
      " 'talk.politics.misc',\n",
      " 'talk.religion.misc']\n"
     ]
    }
   ],
   "source": [
    "newsgroups = fetch_20newsgroups()\n",
    "pprint.pprint(list(newsgroups.target_names)) # all group names"
   ]
  },
  {
   "cell_type": "markdown",
   "metadata": {},
   "source": [
    "### This dataset includes 18,000 newsgroups posts with 20 topics."
   ]
  },
  {
   "cell_type": "code",
   "execution_count": 44,
   "metadata": {},
   "outputs": [],
   "source": [
    "categories = ['alt.atheism', 'talk.religion.misc', 'comp.graphics', 'sci.space']\n",
    "remove = ('headers', 'footers', 'quotes')\n",
    "newsgroups_train = fetch_20newsgroups(subset='train', categories=categories, remove=remove)\n",
    "newsgroups_test = fetch_20newsgroups(subset='test', categories=categories, remove=remove)"
   ]
  },
  {
   "cell_type": "code",
   "execution_count": 45,
   "metadata": {},
   "outputs": [
    {
     "data": {
      "text/plain": [
       "((2034,), (2034,))"
      ]
     },
     "execution_count": 45,
     "metadata": {},
     "output_type": "execute_result"
    }
   ],
   "source": [
    "newsgroups_train.filenames.shape, newsgroups_train.target.shape"
   ]
  },
  {
   "cell_type": "code",
   "execution_count": 70,
   "metadata": {},
   "outputs": [
    {
     "name": "stdout",
     "output_type": "stream",
     "text": [
      "Hi,\n",
      "\n",
      "I've noticed that if you only save a model (with all your mapping planes\n",
      "positioned carefully) to a .3DS file that when you reload it after restarting\n",
      "3DS, they are given a default position and orientation.  But if you save\n",
      "to a .PRJ file their positions/orientation are preserved.  Does anyone\n",
      "know why this information is not stored in the .3DS file?  Nothing is\n",
      "explicitly said in the manual about saving texture rules in the .PRJ file. \n",
      "I'd like to be able to read the texture rule information, does anyone have \n",
      "the format for the .PRJ file?\n",
      "\n",
      "Is the .CEL file format available from somewhere?\n",
      "\n",
      "Rych\n",
      "\n",
      "\n",
      "Seems to be, barring evidence to the contrary, that Koresh was simply\n",
      "another deranged fanatic who thought it neccessary to take a whole bunch of\n",
      "folks with him, children and all, to satisfy his delusional mania. Jim\n",
      "Jones, circa 1993.\n",
      "\n",
      "\n",
      "Nope - fruitcakes like Koresh have been demonstrating such evil corruption\n",
      "for centuries.\n"
     ]
    }
   ],
   "source": [
    "print(\"\\n\".join(newsgroups_train.data[:2]))\n"
   ]
  },
  {
   "cell_type": "code",
   "execution_count": 9,
   "metadata": {},
   "outputs": [
    {
     "data": {
      "text/plain": [
       "array(['comp.graphics', 'talk.religion.misc', 'sci.space', 'alt.atheism',\n",
       "       'sci.space', 'alt.atheism', 'sci.space', 'comp.graphics',\n",
       "       'sci.space', 'comp.graphics'], dtype='<U18')"
      ]
     },
     "execution_count": 9,
     "metadata": {},
     "output_type": "execute_result"
    }
   ],
   "source": [
    "np.array(newsgroups_train.target_names)[newsgroups_train.target[:10]]"
   ]
  },
  {
   "cell_type": "code",
   "execution_count": 75,
   "metadata": {},
   "outputs": [
    {
     "data": {
      "text/plain": [
       "array([1, 3, 2, 0, 2, 0, 2, 1, 2, 1], dtype=int64)"
      ]
     },
     "execution_count": 75,
     "metadata": {},
     "output_type": "execute_result"
    }
   ],
   "source": [
    "newsgroups_train.target_names[:10]"
   ]
  },
  {
   "cell_type": "code",
   "execution_count": 11,
   "metadata": {},
   "outputs": [],
   "source": [
    "num_topics, num_top_words = 6, 8"
   ]
  },
  {
   "cell_type": "markdown",
   "metadata": {},
   "source": [
    "### Stop words, stemming, lemmatization Scikit-learn"
   ]
  },
  {
   "cell_type": "code",
   "execution_count": 12,
   "metadata": {},
   "outputs": [
    {
     "name": "stderr",
     "output_type": "stream",
     "text": [
      "C:\\Users\\User\\anaconda3\\lib\\site-packages\\sklearn\\utils\\deprecation.py:144: FutureWarning: The sklearn.feature_extraction.stop_words module is  deprecated in version 0.22 and will be removed in version 0.24. The corresponding classes / functions should instead be imported from sklearn.feature_extraction.text. Anything that cannot be imported from sklearn.feature_extraction.text is now part of the private API.\n",
      "  warnings.warn(message, FutureWarning)\n"
     ]
    }
   ],
   "source": [
    "from sklearn.feature_extraction import stop_words\n",
    "# from sklearn.feature_extraction.text import stop_words\n",
    "\n",
    "stop_words_sklearn = sorted(list(stop_words.ENGLISH_STOP_WORDS))\n",
    "# print(stop_words_sklearn)"
   ]
  },
  {
   "cell_type": "code",
   "execution_count": 13,
   "metadata": {},
   "outputs": [
    {
     "name": "stderr",
     "output_type": "stream",
     "text": [
      "[nltk_data] Downloading package wordnet to\n",
      "[nltk_data]     C:\\Users\\User\\AppData\\Roaming\\nltk_data...\n",
      "[nltk_data]   Package wordnet is already up-to-date!\n"
     ]
    },
    {
     "data": {
      "text/plain": [
       "True"
      ]
     },
     "execution_count": 13,
     "metadata": {},
     "output_type": "execute_result"
    }
   ],
   "source": [
    "import nltk\n",
    "nltk.download('wordnet')"
   ]
  },
  {
   "cell_type": "code",
   "execution_count": 14,
   "metadata": {},
   "outputs": [],
   "source": [
    "from nltk import stem"
   ]
  },
  {
   "cell_type": "code",
   "execution_count": 15,
   "metadata": {},
   "outputs": [],
   "source": [
    "wnl = stem.WordNetLemmatizer()\n",
    "porter = stem.porter.PorterStemmer()"
   ]
  },
  {
   "cell_type": "code",
   "execution_count": 16,
   "metadata": {},
   "outputs": [],
   "source": [
    "word_list = ['feet', 'foot', 'foots', 'footing']"
   ]
  },
  {
   "cell_type": "code",
   "execution_count": 17,
   "metadata": {},
   "outputs": [
    {
     "data": {
      "text/plain": [
       "['foot', 'foot', 'foot', 'footing']"
      ]
     },
     "execution_count": 17,
     "metadata": {},
     "output_type": "execute_result"
    }
   ],
   "source": [
    "[wnl.lemmatize(word) for word in word_list]"
   ]
  },
  {
   "cell_type": "code",
   "execution_count": 18,
   "metadata": {},
   "outputs": [
    {
     "data": {
      "text/plain": [
       "['feet', 'foot', 'foot', 'foot']"
      ]
     },
     "execution_count": 18,
     "metadata": {},
     "output_type": "execute_result"
    }
   ],
   "source": [
    "[porter.stem(word) for word in word_list]"
   ]
  },
  {
   "cell_type": "code",
   "execution_count": 19,
   "metadata": {},
   "outputs": [],
   "source": [
    "fly_list = ['fly', 'flies', 'flying']\n",
    "org_list = ['organize', 'organizes', 'organizing']\n",
    "un_list = ['universe', 'university']"
   ]
  },
  {
   "cell_type": "code",
   "execution_count": 20,
   "metadata": {},
   "outputs": [
    {
     "data": {
      "text/plain": [
       "['universe', 'university']"
      ]
     },
     "execution_count": 20,
     "metadata": {},
     "output_type": "execute_result"
    }
   ],
   "source": [
    "[wnl.lemmatize(word) for word in [fly_list, org_list, un_list][2]]"
   ]
  },
  {
   "cell_type": "code",
   "execution_count": 21,
   "metadata": {},
   "outputs": [
    {
     "data": {
      "text/plain": [
       "['organ', 'organ', 'organ']"
      ]
     },
     "execution_count": 21,
     "metadata": {},
     "output_type": "execute_result"
    }
   ],
   "source": [
    "[porter.stem(word) for word in [fly_list, org_list, un_list][1]]"
   ]
  },
  {
   "cell_type": "markdown",
   "metadata": {},
   "source": [
    "### Spacy"
   ]
  },
  {
   "cell_type": "code",
   "execution_count": 22,
   "metadata": {},
   "outputs": [],
   "source": [
    "import spacy\n",
    "nlp = spacy.load('en_core_web_sm', disable=['parser', 'ner'])"
   ]
  },
  {
   "cell_type": "code",
   "execution_count": 84,
   "metadata": {},
   "outputs": [],
   "source": [
    "# from spacy.lemmatizer import Lemmatizer, NOUN\n",
    "# lemmatizer = nlp.vocab.morphology.lemmatizer\n",
    "# [lemmatizer.lookup(word) for word in [fly_list, org_list, un_list][2]]"
   ]
  },
  {
   "cell_type": "code",
   "execution_count": 85,
   "metadata": {},
   "outputs": [],
   "source": [
    "# stop_words_spacy = sorted(list(nlp.Defaults.stop_words)) #[:10]\n",
    "# print(stop_words_spacy)"
   ]
  },
  {
   "cell_type": "code",
   "execution_count": 86,
   "metadata": {},
   "outputs": [],
   "source": [
    "# sklearn but not spacy\n",
    "# list_difference = []\n",
    "# for item in stop_words_sklearn:\n",
    "#   if item not in stop_words_spacy:\n",
    "#     list_difference.append(item)\n",
    "# print(list_difference)"
   ]
  },
  {
   "cell_type": "code",
   "execution_count": 87,
   "metadata": {},
   "outputs": [],
   "source": [
    "#spacy not sklearn\n",
    "# list_difference = []\n",
    "# for item in stop_words_spacy:\n",
    "#   if item not in stop_words_sklearn:\n",
    "#     list_difference.append(item)\n",
    "# print(list_difference)"
   ]
  },
  {
   "cell_type": "code",
   "execution_count": 88,
   "metadata": {},
   "outputs": [],
   "source": [
    "# len(nlp.Defaults.stop_words - stop_words.ENGLISH_STOP_WORDS)"
   ]
  },
  {
   "cell_type": "markdown",
   "metadata": {},
   "source": [
    "### Data processing"
   ]
  },
  {
   "cell_type": "code",
   "execution_count": 114,
   "metadata": {},
   "outputs": [],
   "source": [
    "from sklearn.feature_extraction.text import CountVectorizer, TfidfVectorizer"
   ]
  },
  {
   "cell_type": "code",
   "execution_count": 115,
   "metadata": {},
   "outputs": [],
   "source": [
    "import nltk"
   ]
  },
  {
   "cell_type": "code",
   "execution_count": 116,
   "metadata": {},
   "outputs": [],
   "source": [
    "vectorizer = CountVectorizer(stop_words='english')"
   ]
  },
  {
   "cell_type": "code",
   "execution_count": 117,
   "metadata": {},
   "outputs": [
    {
     "data": {
      "text/plain": [
       "(2034, 26576)"
      ]
     },
     "execution_count": 117,
     "metadata": {},
     "output_type": "execute_result"
    }
   ],
   "source": [
    "vectors = vectorizer.fit_transform(newsgroups_train.data).todense()  # todense jest potrzebne dla SVD i NMF, nie może być sparse\n",
    "vectors.shape "
   ]
  },
  {
   "cell_type": "code",
   "execution_count": 118,
   "metadata": {},
   "outputs": [
    {
     "data": {
      "text/plain": [
       "array(['rectangle', 'rectangular', 'rectification', 'rectified',\n",
       "       'rectify', 'recurrant', 'recurse', 'recursive', 'recursively',\n",
       "       'recursiveness', 'recycled', 'red', 'reddish', 'reddy', 'redeemed',\n",
       "       'redefine', 'redefinition', 'redefinitions', 'redelfs',\n",
       "       'redemption'], dtype='<U80')"
      ]
     },
     "execution_count": 118,
     "metadata": {},
     "output_type": "execute_result"
    }
   ],
   "source": [
    "vocab = np.array(vectorizer.get_feature_names())\n",
    "vocab[20000:20020]"
   ]
  },
  {
   "cell_type": "code",
   "execution_count": 119,
   "metadata": {},
   "outputs": [
    {
     "data": {
      "text/plain": [
       "(26576,)"
      ]
     },
     "execution_count": 119,
     "metadata": {},
     "output_type": "execute_result"
    }
   ],
   "source": [
    "vocab.shape"
   ]
  },
  {
   "cell_type": "markdown",
   "metadata": {},
   "source": [
    "##### Rozkład według wartości osobliwych (dekompozycja głównych składowych,(SVD – z ang. Singular Value Decomposition))\n",
    "– pewien rozkład macierzy (dekompozycja) na iloczyn trzech specyficznych macierzy."
   ]
  },
  {
   "cell_type": "markdown",
   "metadata": {},
   "source": [
    "### Singular Value Decomposition (SVD)"
   ]
  },
  {
   "cell_type": "code",
   "execution_count": 120,
   "metadata": {},
   "outputs": [
    {
     "name": "stdout",
     "output_type": "stream",
     "text": [
      "Wall time: 10.8 s\n"
     ]
    }
   ],
   "source": [
    "import numpy as np\n",
    "%time U, s, Vh = linalg.svd(vectors, full_matrices=False)"
   ]
  },
  {
   "cell_type": "code",
   "execution_count": 134,
   "metadata": {},
   "outputs": [
    {
     "name": "stdout",
     "output_type": "stream",
     "text": [
      "(2034, 2034) (2034,) (2034, 26576)\n"
     ]
    }
   ],
   "source": [
    "print(U.shape, s.shape, Vh.shape)"
   ]
  },
  {
   "cell_type": "code",
   "execution_count": 123,
   "metadata": {},
   "outputs": [
    {
     "data": {
      "text/plain": [
       "array([433.92698542, 291.51012741, 240.71137677, 220.00048043,\n",
       "       182.74475229, 168.15235371])"
      ]
     },
     "execution_count": 123,
     "metadata": {},
     "output_type": "execute_result"
    }
   ],
   "source": [
    "s[:6]"
   ]
  },
  {
   "cell_type": "code",
   "execution_count": 124,
   "metadata": {},
   "outputs": [],
   "source": [
    "# np.diag(s[:4])"
   ]
  },
  {
   "cell_type": "code",
   "execution_count": 125,
   "metadata": {},
   "outputs": [],
   "source": [
    "# np.diag(np.diag(s[:4]))"
   ]
  },
  {
   "cell_type": "code",
   "execution_count": 40,
   "metadata": {},
   "outputs": [],
   "source": [
    "#Exercise: confrim that U, s, Vh is a decomposition of `vectors`"
   ]
  },
  {
   "cell_type": "code",
   "execution_count": 128,
   "metadata": {},
   "outputs": [
    {
     "data": {
      "text/plain": [
       "True"
      ]
     },
     "execution_count": 128,
     "metadata": {},
     "output_type": "execute_result"
    }
   ],
   "source": [
    "reconstructed_vectors = U @ np.diag(s) @ Vh \n",
    "np.linalg.norm(reconstructed_vectors - vectors)\n",
    "np.allclose(reconstructed_vectors, vectors)"
   ]
  },
  {
   "cell_type": "code",
   "execution_count": 44,
   "metadata": {},
   "outputs": [],
   "source": [
    "#Exercise: Confirm that U, Vh are orthonormal\n"
   ]
  },
  {
   "cell_type": "code",
   "execution_count": 136,
   "metadata": {},
   "outputs": [],
   "source": [
    "# np.allclose(U.T @ U, np.eye(U.shape[0])) # np.eye() return a 2-D array with ones on the diagonal and zeros elsewhere.\n",
    "# np.allclose(Vh @ Vh.T, np.eye(Vh.shape[0]))"
   ]
  },
  {
   "cell_type": "markdown",
   "metadata": {},
   "source": [
    "#### topic"
   ]
  },
  {
   "cell_type": "code",
   "execution_count": 140,
   "metadata": {},
   "outputs": [],
   "source": [
    "num_top_words=8\n",
    "\n",
    "def show_topics(a):\n",
    "    top_words = lambda t: [vocab[i] for i in np.argsort(t)[:-num_top_words-1:-1]]\n",
    "    topic_words = ([top_words(t) for t in a])\n",
    "    return [' '.join(t) for t in topic_words]"
   ]
  },
  {
   "cell_type": "code",
   "execution_count": 141,
   "metadata": {},
   "outputs": [
    {
     "data": {
      "text/plain": [
       "['ditto critus propagandist surname galacticentric kindergarten surreal imaginative',\n",
       " 'jpeg gif file color quality image jfif format',\n",
       " 'graphics edu pub mail 128 3d ray ftp',\n",
       " 'jesus god matthew people atheists atheism does graphics',\n",
       " 'image data processing analysis software available tools display',\n",
       " 'god atheists atheism religious believe religion argument true']"
      ]
     },
     "execution_count": 141,
     "metadata": {},
     "output_type": "execute_result"
    }
   ],
   "source": [
    "show_topics(Vh[:6])"
   ]
  },
  {
   "cell_type": "markdown",
   "metadata": {},
   "source": [
    "### Non-negative Matrix Factorization (NMF)"
   ]
  },
  {
   "cell_type": "code",
   "execution_count": 59,
   "metadata": {},
   "outputs": [],
   "source": [
    "m,n=vectors.shape\n",
    "d=5  # num topics"
   ]
  },
  {
   "cell_type": "code",
   "execution_count": 60,
   "metadata": {},
   "outputs": [],
   "source": [
    "\n",
    "clf = decomposition.NMF(n_components=d, random_state=1)\n",
    "\n",
    "W1 = clf.fit_transform(vectors)\n",
    "H1 = clf.components_"
   ]
  },
  {
   "cell_type": "code",
   "execution_count": 61,
   "metadata": {},
   "outputs": [
    {
     "data": {
      "text/plain": [
       "['jpeg image gif file color images format quality version files free bit',\n",
       " 'edu graphics pub mail 128 ray ftp send 3d com server objects',\n",
       " 'space launch satellite nasa commercial satellites year market data earth mission lunar',\n",
       " 'jesus god people matthew atheists does atheism said just believe religious religion',\n",
       " 'image data available software processing ftp edu analysis images display package user']"
      ]
     },
     "execution_count": 61,
     "metadata": {},
     "output_type": "execute_result"
    }
   ],
   "source": [
    "show_topics(H1)"
   ]
  },
  {
   "cell_type": "markdown",
   "metadata": {},
   "source": [
    "### TF-IDF"
   ]
  },
  {
   "cell_type": "code",
   "execution_count": 62,
   "metadata": {},
   "outputs": [],
   "source": [
    "vectorizer_tfidf = TfidfVectorizer(stop_words='english')\n",
    "vectors_tfidf = vectorizer_tfidf.fit_transform(newsgroups_train.data) # (documents, vocab)"
   ]
  },
  {
   "cell_type": "code",
   "execution_count": 145,
   "metadata": {},
   "outputs": [
    {
     "name": "stdout",
     "output_type": "stream",
     "text": [
      "[\"a\\n\\nWhat about positional uncertainties in S-L 1993e?   I assume we know where\\nand what Galileo is doing within a few meters.   But without the\\nHGA,  don't we have to have some pretty good ideas, of where to look\\nbefore imaging?  If the HGA was working,  they could slew around\\nin near real time (Less speed of light delay).  But when they were\\nimaging toutatis????  didn't someone have to get lucky on a guess to\\nfind the first images?   \\n\\nAlso, I imagine S-L 1993e will be mostly a visual image.  so how will\\nthat affect the other imaging missions.  with the LGA,  there is a real\\ntight allocation of bandwidth.   It may be premature to hope for answers,\\nbut I thought i'd throw it on the floor.\", \"I would like to program Tseng ET4000 to nonstandard 1024x768 mode by\\nswitching to standard 1024x768 mode using BIOS and than changing some\\ntiming details (0x3D4 registers 0x00-0x1F) but I don't know how to\\nselect 36 MHz pixel clock I need. The BIOS function selects 40 MHz.\\n\\nIs there anybody who knows where to obtain technical info about this.\\nI am also interested in any other technical information about Tseng ET4000\\nand Trident 8900 and 9000 chipsets.\\n\\n\\t\\t\\tthanks very much\"]\n",
      "**************************************************************************************************\n",
      "a\n",
      "\n",
      "What about positional uncertainties in S-L 1993e?   I assume we know where\n",
      "and what Galileo is doing within a few meters.   But without the\n",
      "HGA,  don't we have to have some pretty good ideas, of where to look\n",
      "before imaging?  If the HGA was working,  they could slew around\n",
      "in near real time (Less speed of light delay).  But when they were\n",
      "imaging toutatis????  didn't someone have to get lucky on a guess to\n",
      "find the first images?   \n",
      "\n",
      "Also, I imagine S-L 1993e will be mostly a visual image.  so how will\n",
      "that affect the other imaging missions.  with the LGA,  there is a real\n",
      "tight allocation of bandwidth.   It may be premature to hope for answers,\n",
      "but I thought i'd throw it on the floor.\n",
      "I would like to program Tseng ET4000 to nonstandard 1024x768 mode by\n",
      "switching to standard 1024x768 mode using BIOS and than changing some\n",
      "timing details (0x3D4 registers 0x00-0x1F) but I don't know how to\n",
      "select 36 MHz pixel clock I need. The BIOS function selects 40 MHz.\n",
      "\n",
      "Is there anybody who knows where to obtain technical info about this.\n",
      "I am also interested in any other technical information about Tseng ET4000\n",
      "and Trident 8900 and 9000 chipsets.\n",
      "\n",
      "\t\t\tthanks very much\n"
     ]
    }
   ],
   "source": [
    "print(newsgroups_train.data[10:12])\n",
    "print(\"**************************************************************************************************\")\n",
    "print(\"\\n\".join(newsgroups_train.data[10:12]))"
   ]
  },
  {
   "cell_type": "code",
   "execution_count": 64,
   "metadata": {},
   "outputs": [],
   "source": [
    "W1 = clf.fit_transform(vectors_tfidf)\n",
    "H1 = clf.components_"
   ]
  },
  {
   "cell_type": "code",
   "execution_count": 65,
   "metadata": {},
   "outputs": [
    {
     "data": {
      "text/plain": [
       "['people don think just like objective say morality know moral religion did',\n",
       " 'graphics thanks files image file program windows know format ftp software help',\n",
       " 'space nasa launch shuttle orbit moon lunar earth station data gov satellite',\n",
       " 'ico bobbe tek beauchaine bronx manhattan sank queens vice blew bob sea',\n",
       " 'god jesus bible believe christian atheism does belief faith christians christ exist']"
      ]
     },
     "execution_count": 65,
     "metadata": {},
     "output_type": "execute_result"
    }
   ],
   "source": [
    "show_topics(H1)"
   ]
  },
  {
   "cell_type": "code",
   "execution_count": 66,
   "metadata": {},
   "outputs": [
    {
     "data": {
      "text/plain": [
       "[<matplotlib.lines.Line2D at 0x25b6d9aeac8>]"
      ]
     },
     "execution_count": 66,
     "metadata": {},
     "output_type": "execute_result"
    },
    {
     "data": {
      "image/png": "[encoded data removed]",
      "text/plain": [
       "<Figure size 432x288 with 1 Axes>"
      ]
     },
     "metadata": {
      "needs_background": "light"
     },
     "output_type": "display_data"
    }
   ],
   "source": [
    "plt.plot(clf.components_[0])"
   ]
  },
  {
   "cell_type": "code",
   "execution_count": 67,
   "metadata": {},
   "outputs": [
    {
     "data": {
      "text/plain": [
       "43.71292605795277"
      ]
     },
     "execution_count": 67,
     "metadata": {},
     "output_type": "execute_result"
    }
   ],
   "source": [
    "clf.reconstruction_err_"
   ]
  },
  {
   "cell_type": "markdown",
   "metadata": {},
   "source": [
    "### British Literature SVD & NMF in Excel"
   ]
  },
  {
   "cell_type": "code",
   "execution_count": 69,
   "metadata": {},
   "outputs": [],
   "source": [
    "import numpy as np\n",
    "from sklearn.feature_extraction.text import CountVectorizer, TfidfVectorizer\n",
    "from sklearn import decomposition\n",
    "from glob import glob\n",
    "import os"
   ]
  },
  {
   "cell_type": "code",
   "execution_count": 70,
   "metadata": {},
   "outputs": [],
   "source": [
    "np.set_printoptions(suppress=True)\n",
    "#These options determine the way floating point numbers, arrays and other NumPy objects are displayed."
   ]
  },
  {
   "cell_type": "code",
   "execution_count": 71,
   "metadata": {},
   "outputs": [],
   "source": [
    "filenames = []\n",
    "for folder in [\"british-fiction-corpus\"]: \n",
    "    filenames.extend(glob(folder + \"/*.txt\"))  # filenames is the list of txt files\n",
    "    "
   ]
  },
  {
   "cell_type": "code",
   "execution_count": 103,
   "metadata": {},
   "outputs": [
    {
     "data": {
      "text/plain": [
       "['british-fiction-corpus\\\\ABronte_Agnes.txt',\n",
       " 'british-fiction-corpus\\\\ABronte_Tenant.txt',\n",
       " 'british-fiction-corpus\\\\Austen_Emma.txt']"
      ]
     },
     "execution_count": 103,
     "metadata": {},
     "output_type": "execute_result"
    }
   ],
   "source": [
    "filenames[:3]"
   ]
  },
  {
   "cell_type": "code",
   "execution_count": 109,
   "metadata": {},
   "outputs": [
    {
     "data": {
      "text/plain": [
       "((27, 55035), 55035)"
      ]
     },
     "execution_count": 109,
     "metadata": {},
     "output_type": "execute_result"
    }
   ],
   "source": [
    "vectorizer = TfidfVectorizer(input='filename', stop_words='english')\n",
    "dtm = vectorizer.fit_transform(filenames).toarray()\n",
    "vocab = np.array(vectorizer.get_feature_names())\n",
    "dtm.shape, len(vocab)"
   ]
  },
  {
   "cell_type": "code",
   "execution_count": 110,
   "metadata": {},
   "outputs": [
    {
     "data": {
      "text/plain": [
       "array(['busiest', 'busily', 'business', 'businesses', 'buskin', 'buss',\n",
       "       'bust', 'busting', 'bustle', 'bustled', 'bustling', 'bustlings',\n",
       "       'busts', 'buswell', 'busy', 'busybodies', 'busybody', 'busying',\n",
       "       'butcher', 'butchered'], dtype='<U31')"
      ]
     },
     "execution_count": 110,
     "metadata": {},
     "output_type": "execute_result"
    }
   ],
   "source": [
    "vocab[8000:8020]"
   ]
  },
  {
   "cell_type": "code",
   "execution_count": 85,
   "metadata": {},
   "outputs": [
    {
     "data": {
      "text/plain": [
       "['ABronte_Agnes.txt',\n",
       " 'ABronte_Tenant.txt',\n",
       " 'Austen_Emma.txt',\n",
       " 'Austen_Pride.txt',\n",
       " 'Austen_Sense.txt',\n",
       " 'CBronte_Jane.txt',\n",
       " 'CBronte_Professor.txt',\n",
       " 'CBronte_Villette.txt',\n",
       " 'Dickens_Bleak.txt',\n",
       " 'Dickens_David.txt',\n",
       " 'Dickens_Hard.txt',\n",
       " 'EBronte_Wuthering.txt',\n",
       " 'Eliot_Adam.txt',\n",
       " 'Eliot_Middlemarch.txt',\n",
       " 'Eliot_Mill.txt',\n",
       " 'Fielding_Joseph.txt',\n",
       " 'Fielding_Tom.txt',\n",
       " 'Richardson_Clarissa.txt',\n",
       " 'Richardson_Pamela.txt',\n",
       " 'Sterne_Sentimental.txt',\n",
       " 'Sterne_Tristram.txt',\n",
       " 'Thackeray_Barry.txt',\n",
       " 'Thackeray_Pendennis.txt',\n",
       " 'Thackeray_Vanity.txt',\n",
       " 'Trollope_Barchester.txt',\n",
       " 'Trollope_Phineas.txt',\n",
       " 'Trollope_Prime.txt']"
      ]
     },
     "execution_count": 85,
     "metadata": {},
     "output_type": "execute_result"
    }
   ],
   "source": [
    "[f.split(\"\\\\\")[1] for f in filenames]"
   ]
  },
  {
   "cell_type": "markdown",
   "metadata": {},
   "source": [
    "#### NMF"
   ]
  },
  {
   "cell_type": "code",
   "execution_count": 86,
   "metadata": {},
   "outputs": [],
   "source": [
    "clf = decomposition.NMF(n_components=10, random_state=1)\n",
    "\n",
    "W1 = clf.fit_transform(dtm)\n",
    "H1 = clf.components_"
   ]
  },
  {
   "cell_type": "code",
   "execution_count": 87,
   "metadata": {},
   "outputs": [],
   "source": [
    "num_top_words=8\n",
    "\n",
    "def show_topics(a):\n",
    "    top_words = lambda t: [vocab[i] for i in np.argsort(t)[:-num_top_words-1:-1]]\n",
    "    topic_words = ([top_words(t) for t in a])\n",
    "    return [' '.join(t) for t in topic_words]"
   ]
  },
  {
   "cell_type": "code",
   "execution_count": 88,
   "metadata": {},
   "outputs": [],
   "source": [
    "def get_all_topic_words(H):\n",
    "    top_indices = lambda t: {i for i in np.argsort(t)[:-num_top_words-1:-1]}\n",
    "    topic_indices = [top_indices(t) for t in H]\n",
    "    return sorted(set.union(*topic_indices))"
   ]
  },
  {
   "cell_type": "code",
   "execution_count": 89,
   "metadata": {},
   "outputs": [],
   "source": [
    "ind = get_all_topic_words(H1)"
   ]
  },
  {
   "cell_type": "code",
   "execution_count": 90,
   "metadata": {},
   "outputs": [
    {
     "data": {
      "text/plain": [
       "array(['adams', 'allworthy', 'bounderby', 'catherine', 'cathy',\n",
       "       'corporal', 'crawley', 'darcy', 'did', 'dorothea', 'earnshaw',\n",
       "       'edgar', 'elinor', 'emma', 'father', 'finn', 'glegg', 'good',\n",
       "       'gradgrind', 'hareton', 'heathcliff', 'jones', 'joseph', 'know',\n",
       "       'lady', 'laura', 'like', 'linton', 'little', 'll', 'lopez',\n",
       "       'louisa', 'lydgate', 'lyndon', 'maggie', 'man', 'marianne',\n",
       "       'micawber', 'miss', 'mr', 'mrs', 'old', 'osborne', 'pendennis',\n",
       "       'philip', 'phineas', 'quoth', 'said', 'sissy', 'sophia', 'sparsit',\n",
       "       'stephen', 'thought', 'time', 'tis', 'toby', 'tom', 'trim',\n",
       "       'tulliver', 'uncle', 'wakem', 'weston', 'wharton'], dtype='<U31')"
      ]
     },
     "execution_count": 90,
     "metadata": {},
     "output_type": "execute_result"
    }
   ],
   "source": [
    "vocab[ind]"
   ]
  },
  {
   "cell_type": "code",
   "execution_count": 91,
   "metadata": {},
   "outputs": [
    {
     "data": {
      "text/plain": [
       "['mr said lydgate mrs dorothea micawber little know',\n",
       " 'said little like did time know good thought',\n",
       " 'adams jones said allworthy sophia lady joseph mr',\n",
       " 'elinor mr emma darcy mrs weston marianne miss',\n",
       " 'maggie tulliver said tom glegg philip mr wakem',\n",
       " 'heathcliff linton hareton catherine earnshaw cathy edgar ll',\n",
       " 'toby said uncle father corporal quoth tis trim',\n",
       " 'phineas said lopez mr finn man wharton laura',\n",
       " 'bounderby gradgrind sparsit said mr sissy louisa stephen',\n",
       " 'crawley said lyndon pendennis old little osborne lady']"
      ]
     },
     "execution_count": 91,
     "metadata": {},
     "output_type": "execute_result"
    }
   ],
   "source": [
    "show_topics(H1)"
   ]
  },
  {
   "cell_type": "code",
   "execution_count": 92,
   "metadata": {},
   "outputs": [
    {
     "data": {
      "text/plain": [
       "((27, 10), (10, 63))"
      ]
     },
     "execution_count": 92,
     "metadata": {},
     "output_type": "execute_result"
    }
   ],
   "source": [
    "W1.shape, H1[:, ind].shape"
   ]
  },
  {
   "cell_type": "markdown",
   "metadata": {},
   "source": [
    "#### Export to CSVs"
   ]
  },
  {
   "cell_type": "code",
   "execution_count": 99,
   "metadata": {},
   "outputs": [],
   "source": [
    "from IPython.display import FileLink, FileLinks"
   ]
  },
  {
   "cell_type": "code",
   "execution_count": 100,
   "metadata": {},
   "outputs": [
    {
     "data": {
      "text/html": [
       "<a href='britlit_W.csv' target='_blank'>britlit_W.csv</a><br>"
      ],
      "text/plain": [
       "C:\\Users\\User\\Intro to NLP\\britlit_W.csv"
      ]
     },
     "execution_count": 100,
     "metadata": {},
     "output_type": "execute_result"
    }
   ],
   "source": [
    "np.savetxt(\"britlit_W.csv\", W1, delimiter=\",\", fmt='%.14f')\n",
    "FileLink('britlit_W.csv')"
   ]
  },
  {
   "cell_type": "code",
   "execution_count": 101,
   "metadata": {},
   "outputs": [
    {
     "data": {
      "text/html": [
       "<a href='britlit_H.csv' target='_blank'>britlit_H.csv</a><br>"
      ],
      "text/plain": [
       "C:\\Users\\User\\Intro to NLP\\britlit_H.csv"
      ]
     },
     "execution_count": 101,
     "metadata": {},
     "output_type": "execute_result"
    }
   ],
   "source": [
    "np.savetxt(\"britlit_H.csv\", H1[:,ind], delimiter=\",\", fmt='%.14f')\n",
    "FileLink('britlit_H.csv')"
   ]
  },
  {
   "cell_type": "code",
   "execution_count": 102,
   "metadata": {},
   "outputs": [
    {
     "data": {
      "text/html": [
       "<a href='britlit_raw.csv' target='_blank'>britlit_raw.csv</a><br>"
      ],
      "text/plain": [
       "C:\\Users\\User\\Intro to NLP\\britlit_raw.csv"
      ]
     },
     "execution_count": 102,
     "metadata": {},
     "output_type": "execute_result"
    }
   ],
   "source": [
    "np.savetxt(\"britlit_raw.csv\", dtm[:,ind], delimiter=\",\", fmt='%.14f')\n",
    "FileLink('britlit_raw.csv')"
   ]
  },
  {
   "cell_type": "markdown",
   "metadata": {},
   "source": [
    "#### SVD"
   ]
  },
  {
   "cell_type": "code",
   "execution_count": 93,
   "metadata": {},
   "outputs": [],
   "source": [
    "U, s, V = decomposition.randomized_svd(dtm, 10)"
   ]
  },
  {
   "cell_type": "code",
   "execution_count": 94,
   "metadata": {},
   "outputs": [],
   "source": [
    "\n",
    "ind = get_all_topic_words(V)"
   ]
  },
  {
   "cell_type": "code",
   "execution_count": 95,
   "metadata": {},
   "outputs": [
    {
     "data": {
      "text/plain": [
       "49"
      ]
     },
     "execution_count": 95,
     "metadata": {},
     "output_type": "execute_result"
    }
   ],
   "source": [
    "len(ind)"
   ]
  },
  {
   "cell_type": "code",
   "execution_count": 96,
   "metadata": {},
   "outputs": [
    {
     "data": {
      "text/plain": [
       "array(['adams', 'allworthy', 'bounderby', 'bretton', 'catherine',\n",
       "       'crawley', 'crimsworth', 'darcy', 'dashwood', 'did', 'elinor',\n",
       "       'elizabeth', 'elton', 'emma', 'finn', 'fleur', 'good', 'gradgrind',\n",
       "       'hareton', 'heathcliff', 'hunsden', 'jennings', 'jones', 'joseph',\n",
       "       'knightley', 'know', 'lady', 'linton', 'little', 'lopez', 'louisa',\n",
       "       'madame', 'maggie', 'man', 'marianne', 'miss', 'monsieur', 'mr',\n",
       "       'mrs', 'pelet', 'phineas', 'said', 'sissy', 'sophia', 'sparsit',\n",
       "       'toby', 'tulliver', 'uncle', 'weston'], dtype='<U31')"
      ]
     },
     "execution_count": 96,
     "metadata": {},
     "output_type": "execute_result"
    }
   ],
   "source": [
    "vocab[ind]"
   ]
  },
  {
   "cell_type": "code",
   "execution_count": 97,
   "metadata": {},
   "outputs": [
    {
     "data": {
      "text/plain": [
       "['mr said lydgate mrs dorothea micawber little know',\n",
       " 'said little like did time know good thought',\n",
       " 'adams jones said allworthy sophia lady joseph mr',\n",
       " 'elinor mr emma darcy mrs weston marianne miss',\n",
       " 'maggie tulliver said tom glegg philip mr wakem',\n",
       " 'heathcliff linton hareton catherine earnshaw cathy edgar ll',\n",
       " 'toby said uncle father corporal quoth tis trim',\n",
       " 'phineas said lopez mr finn man wharton laura',\n",
       " 'bounderby gradgrind sparsit said mr sissy louisa stephen',\n",
       " 'crawley said lyndon pendennis old little osborne lady']"
      ]
     },
     "execution_count": 97,
     "metadata": {},
     "output_type": "execute_result"
    }
   ],
   "source": [
    "show_topics(H1)"
   ]
  },
  {
   "cell_type": "code",
   "execution_count": null,
   "metadata": {},
   "outputs": [],
   "source": []
  }
 ],
 "metadata": {
  "kernelspec": {
   "display_name": "Python 3",
   "language": "python",
   "name": "python3"
  },
  "language_info": {
   "codemirror_mode": {
    "name": "ipython",
    "version": 3
   },
   "file_extension": ".py",
   "mimetype": "text/x-python",
   "name": "python",
   "nbconvert_exporter": "python",
   "pygments_lexer": "ipython3",
   "version": "3.7.6"
  }
 },
 "nbformat": 4,
 "nbformat_minor": 4
}
